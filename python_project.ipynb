{
 "cells": [
  {
   "cell_type": "code",
   "execution_count": 1,
   "id": "92b64081-9032-49ca-9eab-7415c9fd4ad6",
   "metadata": {},
   "outputs": [],
   "source": [
    "import pandas as pd\n",
    "import numpy as np\n",
    "import matplotlib.pyplot as plt\n",
    "import seaborn as sns"
   ]
  },
  {
   "cell_type": "code",
   "execution_count": 2,
   "id": "dbb839ef-0eb5-4362-ac08-d3a75006527d",
   "metadata": {},
   "outputs": [],
   "source": [
    "pd.set_option('display.max_column',None)\n",
    "pd.set_option('display.max_rows',None)"
   ]
  },
  {
   "cell_type": "code",
   "execution_count": 3,
   "id": "0b690d7c-692f-42e9-a4f7-bef11c1118e3",
   "metadata": {},
   "outputs": [
    {
     "data": {
      "text/html": [
       "<div>\n",
       "<style scoped>\n",
       "    .dataframe tbody tr th:only-of-type {\n",
       "        vertical-align: middle;\n",
       "    }\n",
       "\n",
       "    .dataframe tbody tr th {\n",
       "        vertical-align: top;\n",
       "    }\n",
       "\n",
       "    .dataframe thead th {\n",
       "        text-align: right;\n",
       "    }\n",
       "</style>\n",
       "<table border=\"1\" class=\"dataframe\">\n",
       "  <thead>\n",
       "    <tr style=\"text-align: right;\">\n",
       "      <th></th>\n",
       "      <th>Order_ID</th>\n",
       "      <th>Customer_Name</th>\n",
       "      <th>Email</th>\n",
       "      <th>Purchase_Date</th>\n",
       "      <th>Product_Category</th>\n",
       "      <th>Product_Name</th>\n",
       "      <th>Amount_Spent</th>\n",
       "      <th>Discount_Applied</th>\n",
       "      <th>Payment_Method</th>\n",
       "      <th>Delivery_Status</th>\n",
       "      <th>Customer_Location</th>\n",
       "      <th>Review_Rating</th>\n",
       "      <th>Return_Status</th>\n",
       "      <th>Shipping_Cost</th>\n",
       "      <th>Delivery_Time_Days</th>\n",
       "      <th>Customer_Age</th>\n",
       "    </tr>\n",
       "  </thead>\n",
       "  <tbody>\n",
       "    <tr>\n",
       "      <th>0</th>\n",
       "      <td>758634</td>\n",
       "      <td>Amit</td>\n",
       "      <td>rahul@domain.com</td>\n",
       "      <td>2025-03-07</td>\n",
       "      <td>NaN</td>\n",
       "      <td>NaN</td>\n",
       "      <td>400.0</td>\n",
       "      <td>20.0</td>\n",
       "      <td>Cash</td>\n",
       "      <td>NaN</td>\n",
       "      <td>Chennai</td>\n",
       "      <td>3.0</td>\n",
       "      <td>Not Returned</td>\n",
       "      <td>200.0</td>\n",
       "      <td>5.0</td>\n",
       "      <td>35.0</td>\n",
       "    </tr>\n",
       "    <tr>\n",
       "      <th>1</th>\n",
       "      <td>617313</td>\n",
       "      <td>Suman</td>\n",
       "      <td>suman@invalid</td>\n",
       "      <td>2025-02-28</td>\n",
       "      <td>NaN</td>\n",
       "      <td>Makeup Kit</td>\n",
       "      <td>-150.0</td>\n",
       "      <td>NaN</td>\n",
       "      <td>Debit Card</td>\n",
       "      <td>NaN</td>\n",
       "      <td>Delhi</td>\n",
       "      <td>3.0</td>\n",
       "      <td>NaN</td>\n",
       "      <td>NaN</td>\n",
       "      <td>10.0</td>\n",
       "      <td>45.0</td>\n",
       "    </tr>\n",
       "    <tr>\n",
       "      <th>2</th>\n",
       "      <td>493325</td>\n",
       "      <td>Ankit</td>\n",
       "      <td>rahul@domain.com</td>\n",
       "      <td>2025-03-07</td>\n",
       "      <td>Fashion</td>\n",
       "      <td>Fiction Book</td>\n",
       "      <td>400.0</td>\n",
       "      <td>25.0</td>\n",
       "      <td>NaN</td>\n",
       "      <td>Returned</td>\n",
       "      <td>Bangalore</td>\n",
       "      <td>3.0</td>\n",
       "      <td>Not Returned</td>\n",
       "      <td>150.0</td>\n",
       "      <td>10.0</td>\n",
       "      <td>NaN</td>\n",
       "    </tr>\n",
       "    <tr>\n",
       "      <th>3</th>\n",
       "      <td>941066</td>\n",
       "      <td>Ankit</td>\n",
       "      <td>neha@example</td>\n",
       "      <td>2025-03-10</td>\n",
       "      <td>Sports</td>\n",
       "      <td>NaN</td>\n",
       "      <td>500.0</td>\n",
       "      <td>20.0</td>\n",
       "      <td>Credit Card</td>\n",
       "      <td>Returned</td>\n",
       "      <td>NaN</td>\n",
       "      <td>3.0</td>\n",
       "      <td>NaN</td>\n",
       "      <td>200.0</td>\n",
       "      <td>2.0</td>\n",
       "      <td>28.0</td>\n",
       "    </tr>\n",
       "    <tr>\n",
       "      <th>4</th>\n",
       "      <td>396423</td>\n",
       "      <td>Priya</td>\n",
       "      <td>amit@site.com</td>\n",
       "      <td>2025-02-28</td>\n",
       "      <td>Beauty</td>\n",
       "      <td>Fiction Book</td>\n",
       "      <td>0.0</td>\n",
       "      <td>25.0</td>\n",
       "      <td>NaN</td>\n",
       "      <td>NaN</td>\n",
       "      <td>Delhi</td>\n",
       "      <td>5.0</td>\n",
       "      <td>NaN</td>\n",
       "      <td>100.0</td>\n",
       "      <td>1.0</td>\n",
       "      <td>35.0</td>\n",
       "    </tr>\n",
       "  </tbody>\n",
       "</table>\n",
       "</div>"
      ],
      "text/plain": [
       "   Order_ID Customer_Name             Email Purchase_Date Product_Category  \\\n",
       "0    758634          Amit  rahul@domain.com    2025-03-07              NaN   \n",
       "1    617313         Suman     suman@invalid    2025-02-28              NaN   \n",
       "2    493325         Ankit  rahul@domain.com    2025-03-07          Fashion   \n",
       "3    941066         Ankit      neha@example    2025-03-10           Sports   \n",
       "4    396423         Priya     amit@site.com    2025-02-28           Beauty   \n",
       "\n",
       "   Product_Name  Amount_Spent  Discount_Applied Payment_Method  \\\n",
       "0           NaN         400.0              20.0           Cash   \n",
       "1    Makeup Kit        -150.0               NaN     Debit Card   \n",
       "2  Fiction Book         400.0              25.0            NaN   \n",
       "3           NaN         500.0              20.0    Credit Card   \n",
       "4  Fiction Book           0.0              25.0            NaN   \n",
       "\n",
       "  Delivery_Status Customer_Location  Review_Rating Return_Status  \\\n",
       "0             NaN           Chennai            3.0  Not Returned   \n",
       "1             NaN             Delhi            3.0           NaN   \n",
       "2        Returned         Bangalore            3.0  Not Returned   \n",
       "3        Returned               NaN            3.0           NaN   \n",
       "4             NaN             Delhi            5.0           NaN   \n",
       "\n",
       "   Shipping_Cost  Delivery_Time_Days  Customer_Age  \n",
       "0          200.0                 5.0          35.0  \n",
       "1            NaN                10.0          45.0  \n",
       "2          150.0                10.0           NaN  \n",
       "3          200.0                 2.0          28.0  \n",
       "4          100.0                 1.0          35.0  "
      ]
     },
     "execution_count": 3,
     "metadata": {},
     "output_type": "execute_result"
    }
   ],
   "source": [
    "df=pd.read_excel(\"sales.xlsx\")\n",
    "df.head()"
   ]
  },
  {
   "cell_type": "code",
   "execution_count": 4,
   "id": "0980bea7-a339-416e-b71b-f6ede8ffcb3f",
   "metadata": {},
   "outputs": [
    {
     "data": {
      "text/html": [
       "<div>\n",
       "<style scoped>\n",
       "    .dataframe tbody tr th:only-of-type {\n",
       "        vertical-align: middle;\n",
       "    }\n",
       "\n",
       "    .dataframe tbody tr th {\n",
       "        vertical-align: top;\n",
       "    }\n",
       "\n",
       "    .dataframe thead th {\n",
       "        text-align: right;\n",
       "    }\n",
       "</style>\n",
       "<table border=\"1\" class=\"dataframe\">\n",
       "  <thead>\n",
       "    <tr style=\"text-align: right;\">\n",
       "      <th></th>\n",
       "      <th>Order_ID</th>\n",
       "      <th>Amount_Spent</th>\n",
       "      <th>Discount_Applied</th>\n",
       "      <th>Review_Rating</th>\n",
       "      <th>Shipping_Cost</th>\n",
       "      <th>Delivery_Time_Days</th>\n",
       "      <th>Customer_Age</th>\n",
       "    </tr>\n",
       "  </thead>\n",
       "  <tbody>\n",
       "    <tr>\n",
       "      <th>count</th>\n",
       "      <td>800.000000</td>\n",
       "      <td>710.000000</td>\n",
       "      <td>711.000000</td>\n",
       "      <td>703.000000</td>\n",
       "      <td>624.000000</td>\n",
       "      <td>685.000000</td>\n",
       "      <td>720.000000</td>\n",
       "    </tr>\n",
       "    <tr>\n",
       "      <th>mean</th>\n",
       "      <td>538226.402500</td>\n",
       "      <td>496.338028</td>\n",
       "      <td>22.320675</td>\n",
       "      <td>2.900427</td>\n",
       "      <td>128.365385</td>\n",
       "      <td>4.534307</td>\n",
       "      <td>34.234722</td>\n",
       "    </tr>\n",
       "    <tr>\n",
       "      <th>std</th>\n",
       "      <td>257055.024043</td>\n",
       "      <td>484.350260</td>\n",
       "      <td>11.535059</td>\n",
       "      <td>2.199142</td>\n",
       "      <td>57.053560</td>\n",
       "      <td>3.078040</td>\n",
       "      <td>8.735913</td>\n",
       "    </tr>\n",
       "    <tr>\n",
       "      <th>min</th>\n",
       "      <td>100882.000000</td>\n",
       "      <td>-150.000000</td>\n",
       "      <td>5.000000</td>\n",
       "      <td>-1.000000</td>\n",
       "      <td>50.000000</td>\n",
       "      <td>1.000000</td>\n",
       "      <td>22.000000</td>\n",
       "    </tr>\n",
       "    <tr>\n",
       "      <th>25%</th>\n",
       "      <td>320391.750000</td>\n",
       "      <td>0.000000</td>\n",
       "      <td>10.000000</td>\n",
       "      <td>1.000000</td>\n",
       "      <td>100.000000</td>\n",
       "      <td>2.000000</td>\n",
       "      <td>28.000000</td>\n",
       "    </tr>\n",
       "    <tr>\n",
       "      <th>50%</th>\n",
       "      <td>535275.500000</td>\n",
       "      <td>500.000000</td>\n",
       "      <td>20.000000</td>\n",
       "      <td>3.000000</td>\n",
       "      <td>150.000000</td>\n",
       "      <td>3.000000</td>\n",
       "      <td>33.000000</td>\n",
       "    </tr>\n",
       "    <tr>\n",
       "      <th>75%</th>\n",
       "      <td>758755.750000</td>\n",
       "      <td>900.000000</td>\n",
       "      <td>30.000000</td>\n",
       "      <td>5.000000</td>\n",
       "      <td>200.000000</td>\n",
       "      <td>7.000000</td>\n",
       "      <td>40.000000</td>\n",
       "    </tr>\n",
       "    <tr>\n",
       "      <th>max</th>\n",
       "      <td>997715.000000</td>\n",
       "      <td>1300.000000</td>\n",
       "      <td>40.000000</td>\n",
       "      <td>6.000000</td>\n",
       "      <td>200.000000</td>\n",
       "      <td>10.000000</td>\n",
       "      <td>50.000000</td>\n",
       "    </tr>\n",
       "  </tbody>\n",
       "</table>\n",
       "</div>"
      ],
      "text/plain": [
       "            Order_ID  Amount_Spent  Discount_Applied  Review_Rating  \\\n",
       "count     800.000000    710.000000        711.000000     703.000000   \n",
       "mean   538226.402500    496.338028         22.320675       2.900427   \n",
       "std    257055.024043    484.350260         11.535059       2.199142   \n",
       "min    100882.000000   -150.000000          5.000000      -1.000000   \n",
       "25%    320391.750000      0.000000         10.000000       1.000000   \n",
       "50%    535275.500000    500.000000         20.000000       3.000000   \n",
       "75%    758755.750000    900.000000         30.000000       5.000000   \n",
       "max    997715.000000   1300.000000         40.000000       6.000000   \n",
       "\n",
       "       Shipping_Cost  Delivery_Time_Days  Customer_Age  \n",
       "count     624.000000          685.000000    720.000000  \n",
       "mean      128.365385            4.534307     34.234722  \n",
       "std        57.053560            3.078040      8.735913  \n",
       "min        50.000000            1.000000     22.000000  \n",
       "25%       100.000000            2.000000     28.000000  \n",
       "50%       150.000000            3.000000     33.000000  \n",
       "75%       200.000000            7.000000     40.000000  \n",
       "max       200.000000           10.000000     50.000000  "
      ]
     },
     "execution_count": 4,
     "metadata": {},
     "output_type": "execute_result"
    }
   ],
   "source": [
    "df.describe()"
   ]
  },
  {
   "cell_type": "markdown",
   "id": "617a5f13-f24c-46a9-b441-46a503a2502d",
   "metadata": {},
   "source": [
    "# remove duplicates\n"
   ]
  },
  {
   "cell_type": "code",
   "execution_count": 6,
   "id": "e09721b4-7a45-433f-8121-89c4d6276aee",
   "metadata": {},
   "outputs": [
    {
     "data": {
      "text/plain": [
       "50"
      ]
     },
     "execution_count": 6,
     "metadata": {},
     "output_type": "execute_result"
    }
   ],
   "source": [
    "df.duplicated().sum()"
   ]
  },
  {
   "cell_type": "code",
   "execution_count": 7,
   "id": "f4413bf6-cb8c-4287-9b67-e33c14bbd928",
   "metadata": {},
   "outputs": [],
   "source": [
    "df=df.drop_duplicates()"
   ]
  },
  {
   "cell_type": "code",
   "execution_count": 8,
   "id": "a805a892-fd65-44dc-8d68-c7a704e22cae",
   "metadata": {},
   "outputs": [
    {
     "data": {
      "text/plain": [
       "0"
      ]
     },
     "execution_count": 8,
     "metadata": {},
     "output_type": "execute_result"
    }
   ],
   "source": [
    "df.duplicated().sum()"
   ]
  },
  {
   "cell_type": "markdown",
   "id": "fa310374-3474-4368-ad91-04343494cbfa",
   "metadata": {},
   "source": [
    "# Handle null values"
   ]
  },
  {
   "cell_type": "code",
   "execution_count": 10,
   "id": "e5022e18-664a-4f65-a374-817dff43bb5b",
   "metadata": {},
   "outputs": [
    {
     "data": {
      "text/plain": [
       "Order_ID                0\n",
       "Customer_Name          64\n",
       "Email                 102\n",
       "Purchase_Date         111\n",
       "Product_Category      116\n",
       "Product_Name           97\n",
       "Amount_Spent           85\n",
       "Discount_Applied       83\n",
       "Payment_Method        133\n",
       "Delivery_Status       157\n",
       "Customer_Location     108\n",
       "Review_Rating          90\n",
       "Return_Status         243\n",
       "Shipping_Cost         164\n",
       "Delivery_Time_Days    109\n",
       "Customer_Age           76\n",
       "dtype: int64"
      ]
     },
     "execution_count": 10,
     "metadata": {},
     "output_type": "execute_result"
    }
   ],
   "source": [
    "df.isnull().sum()"
   ]
  },
  {
   "cell_type": "code",
   "execution_count": 11,
   "id": "fa31b465-ef37-4046-9282-13565e64d96b",
   "metadata": {},
   "outputs": [
    {
     "data": {
      "text/plain": [
       "Index([], dtype='object')"
      ]
     },
     "execution_count": 11,
     "metadata": {},
     "output_type": "execute_result"
    }
   ],
   "source": [
    "# delete columns if null values more than 40%\n",
    "df.columns[df.isnull().sum()/df.shape[0]>0.40]"
   ]
  },
  {
   "cell_type": "markdown",
   "id": "67773e15-afba-4ae5-8b22-6e2004cf2c4c",
   "metadata": {},
   "source": [
    "no columns have more than 40% null values"
   ]
  },
  {
   "cell_type": "code",
   "execution_count": 13,
   "id": "1d90f104-bf6c-40b6-84e2-23d3c2588b05",
   "metadata": {},
   "outputs": [
    {
     "data": {
      "text/plain": [
       "Index(['Customer_Name', 'Email', 'Purchase_Date', 'Product_Category',\n",
       "       'Product_Name', 'Amount_Spent', 'Discount_Applied', 'Payment_Method',\n",
       "       'Delivery_Status', 'Customer_Location', 'Review_Rating',\n",
       "       'Return_Status', 'Shipping_Cost', 'Delivery_Time_Days', 'Customer_Age'],\n",
       "      dtype='object')"
      ]
     },
     "execution_count": 13,
     "metadata": {},
     "output_type": "execute_result"
    }
   ],
   "source": [
    "df.columns[df.isnull().sum()/df.shape[0]>0]"
   ]
  },
  {
   "cell_type": "code",
   "execution_count": 14,
   "id": "4a4c3f0d-7993-4056-b1a1-8f2f9698eb32",
   "metadata": {},
   "outputs": [],
   "source": [
    "df=df.fillna({\n",
    "    'Customer_Name':'Unknown',\n",
    "    'Email':'Not_available',\n",
    "    'Purchase_Date':df['Purchase_Date'].mode()[0],\n",
    "    'Product_Category':df['Product_Category'].mode()[0],\n",
    "    'Product_Name':df['Product_Name'].mode()[0],\n",
    "    'Amount_Spent':df['Amount_Spent'].median(),\n",
    "    'Discount_Applied':0,\n",
    "    'Payment_Method':df['Payment_Method'].mode()[0],\n",
    "    'Delivery_Status':'Pending',\n",
    "    'Customer_Location':'Unknown',\n",
    "    'Review_Rating':df['Review_Rating'].median(),\n",
    "    'Return_Status':df['Return_Status'].mode()[0],\n",
    "    'Shipping_Cost':df['Shipping_Cost'].median(),\n",
    "    'Delivery_Time_Days':df['Delivery_Time_Days'].median(),\n",
    "    'Customer_Age':df['Delivery_Time_Days'].median()\n",
    "})"
   ]
  },
  {
   "cell_type": "code",
   "execution_count": 15,
   "id": "4e2da7c5-88c1-44d1-ac76-411d68392de5",
   "metadata": {},
   "outputs": [
    {
     "data": {
      "text/plain": [
       "Order_ID              0\n",
       "Customer_Name         0\n",
       "Email                 0\n",
       "Purchase_Date         0\n",
       "Product_Category      0\n",
       "Product_Name          0\n",
       "Amount_Spent          0\n",
       "Discount_Applied      0\n",
       "Payment_Method        0\n",
       "Delivery_Status       0\n",
       "Customer_Location     0\n",
       "Review_Rating         0\n",
       "Return_Status         0\n",
       "Shipping_Cost         0\n",
       "Delivery_Time_Days    0\n",
       "Customer_Age          0\n",
       "dtype: int64"
      ]
     },
     "execution_count": 15,
     "metadata": {},
     "output_type": "execute_result"
    }
   ],
   "source": [
    "df.isna().sum()"
   ]
  },
  {
   "cell_type": "markdown",
   "id": "62dca10a-cc6a-4fad-87e3-1bfb39f4c89b",
   "metadata": {},
   "source": [
    "# Correcting Incorrect Data"
   ]
  },
  {
   "cell_type": "markdown",
   "id": "329ed6f4-d2c1-48af-9534-16deb013d68d",
   "metadata": {},
   "source": [
    "### Negative Amount Spent"
   ]
  },
  {
   "cell_type": "code",
   "execution_count": 18,
   "id": "5375de26-6a0c-46b4-9e90-5bcd14e7d73a",
   "metadata": {},
   "outputs": [],
   "source": [
    "df['Amount_Spent']=df['Amount_Spent'].abs()"
   ]
  },
  {
   "cell_type": "markdown",
   "id": "dfd51401-2ffa-4092-b0ae-dd82642155e6",
   "metadata": {},
   "source": [
    "### Invalid Product Names and Categories"
   ]
  },
  {
   "cell_type": "code",
   "execution_count": 20,
   "id": "8bfcc635-9540-45ed-a04d-e82f5925c495",
   "metadata": {},
   "outputs": [
    {
     "data": {
      "text/plain": [
       "array(['Laptop', 'Makeup Kit', 'Fiction Book', 'Cricket Bat', 'Shoes',\n",
       "       'Microwave', 'Headphones'], dtype=object)"
      ]
     },
     "execution_count": 20,
     "metadata": {},
     "output_type": "execute_result"
    }
   ],
   "source": [
    "df['Product_Name'].unique()"
   ]
  },
  {
   "cell_type": "code",
   "execution_count": 21,
   "id": "3154efd3-9ff4-465c-aa18-f6619e218e75",
   "metadata": {},
   "outputs": [
    {
     "data": {
      "text/plain": [
       "array(['Fashion', 'Sports', 'Beauty', 'Electronics', 'Books',\n",
       "       'Home & Kitchen'], dtype=object)"
      ]
     },
     "execution_count": 21,
     "metadata": {},
     "output_type": "execute_result"
    }
   ],
   "source": [
    "df['Product_Category'].unique()"
   ]
  },
  {
   "cell_type": "code",
   "execution_count": 22,
   "id": "36fa9ec2-8a51-4bab-bcf3-5759cce13418",
   "metadata": {},
   "outputs": [],
   "source": [
    "# Mapping of Product_Name to Correct Product_Category\n",
    "product_category_map = {\n",
    "    'Laptop': 'Electronics',\n",
    "    'Makeup Kit': 'Beauty',\n",
    "    'Fiction Book': 'Books',\n",
    "    'Cricket Bat': 'Sports',\n",
    "    'Shoes': 'Fashion',\n",
    "    'Microwave': 'Home & Kitchen',\n",
    "    'Headphones': 'Electronics'\n",
    "}\n",
    "# Correct the Product_Category based on Product_Name\n",
    "df['Product_Category'] = df['Product_Name'].map(product_category_map)"
   ]
  },
  {
   "cell_type": "code",
   "execution_count": 23,
   "id": "4b26e06f-bc2f-46f5-866a-b6aa0ba1951b",
   "metadata": {},
   "outputs": [
    {
     "data": {
      "text/html": [
       "<div>\n",
       "<style scoped>\n",
       "    .dataframe tbody tr th:only-of-type {\n",
       "        vertical-align: middle;\n",
       "    }\n",
       "\n",
       "    .dataframe tbody tr th {\n",
       "        vertical-align: top;\n",
       "    }\n",
       "\n",
       "    .dataframe thead th {\n",
       "        text-align: right;\n",
       "    }\n",
       "</style>\n",
       "<table border=\"1\" class=\"dataframe\">\n",
       "  <thead>\n",
       "    <tr style=\"text-align: right;\">\n",
       "      <th></th>\n",
       "      <th>Order_ID</th>\n",
       "      <th>Customer_Name</th>\n",
       "      <th>Email</th>\n",
       "      <th>Purchase_Date</th>\n",
       "      <th>Product_Category</th>\n",
       "      <th>Product_Name</th>\n",
       "      <th>Amount_Spent</th>\n",
       "      <th>Discount_Applied</th>\n",
       "      <th>Payment_Method</th>\n",
       "      <th>Delivery_Status</th>\n",
       "      <th>Customer_Location</th>\n",
       "      <th>Review_Rating</th>\n",
       "      <th>Return_Status</th>\n",
       "      <th>Shipping_Cost</th>\n",
       "      <th>Delivery_Time_Days</th>\n",
       "      <th>Customer_Age</th>\n",
       "    </tr>\n",
       "  </thead>\n",
       "  <tbody>\n",
       "    <tr>\n",
       "      <th>0</th>\n",
       "      <td>758634</td>\n",
       "      <td>Amit</td>\n",
       "      <td>rahul@domain.com</td>\n",
       "      <td>2025-03-07</td>\n",
       "      <td>Electronics</td>\n",
       "      <td>Laptop</td>\n",
       "      <td>400.0</td>\n",
       "      <td>20.0</td>\n",
       "      <td>Cash</td>\n",
       "      <td>Pending</td>\n",
       "      <td>Chennai</td>\n",
       "      <td>3.0</td>\n",
       "      <td>Not Returned</td>\n",
       "      <td>200.0</td>\n",
       "      <td>5.0</td>\n",
       "      <td>35.0</td>\n",
       "    </tr>\n",
       "    <tr>\n",
       "      <th>1</th>\n",
       "      <td>617313</td>\n",
       "      <td>Suman</td>\n",
       "      <td>suman@invalid</td>\n",
       "      <td>2025-02-28</td>\n",
       "      <td>Beauty</td>\n",
       "      <td>Makeup Kit</td>\n",
       "      <td>150.0</td>\n",
       "      <td>0.0</td>\n",
       "      <td>Debit Card</td>\n",
       "      <td>Pending</td>\n",
       "      <td>Delhi</td>\n",
       "      <td>3.0</td>\n",
       "      <td>Returned</td>\n",
       "      <td>150.0</td>\n",
       "      <td>10.0</td>\n",
       "      <td>45.0</td>\n",
       "    </tr>\n",
       "    <tr>\n",
       "      <th>2</th>\n",
       "      <td>493325</td>\n",
       "      <td>Ankit</td>\n",
       "      <td>rahul@domain.com</td>\n",
       "      <td>2025-03-07</td>\n",
       "      <td>Books</td>\n",
       "      <td>Fiction Book</td>\n",
       "      <td>400.0</td>\n",
       "      <td>25.0</td>\n",
       "      <td>Net Banking</td>\n",
       "      <td>Returned</td>\n",
       "      <td>Bangalore</td>\n",
       "      <td>3.0</td>\n",
       "      <td>Not Returned</td>\n",
       "      <td>150.0</td>\n",
       "      <td>10.0</td>\n",
       "      <td>3.0</td>\n",
       "    </tr>\n",
       "    <tr>\n",
       "      <th>3</th>\n",
       "      <td>941066</td>\n",
       "      <td>Ankit</td>\n",
       "      <td>neha@example</td>\n",
       "      <td>2025-03-10</td>\n",
       "      <td>Electronics</td>\n",
       "      <td>Laptop</td>\n",
       "      <td>500.0</td>\n",
       "      <td>20.0</td>\n",
       "      <td>Credit Card</td>\n",
       "      <td>Returned</td>\n",
       "      <td>Unknown</td>\n",
       "      <td>3.0</td>\n",
       "      <td>Returned</td>\n",
       "      <td>200.0</td>\n",
       "      <td>2.0</td>\n",
       "      <td>28.0</td>\n",
       "    </tr>\n",
       "    <tr>\n",
       "      <th>4</th>\n",
       "      <td>396423</td>\n",
       "      <td>Priya</td>\n",
       "      <td>amit@site.com</td>\n",
       "      <td>2025-02-28</td>\n",
       "      <td>Books</td>\n",
       "      <td>Fiction Book</td>\n",
       "      <td>0.0</td>\n",
       "      <td>25.0</td>\n",
       "      <td>Net Banking</td>\n",
       "      <td>Pending</td>\n",
       "      <td>Delhi</td>\n",
       "      <td>5.0</td>\n",
       "      <td>Returned</td>\n",
       "      <td>100.0</td>\n",
       "      <td>1.0</td>\n",
       "      <td>35.0</td>\n",
       "    </tr>\n",
       "  </tbody>\n",
       "</table>\n",
       "</div>"
      ],
      "text/plain": [
       "   Order_ID Customer_Name             Email Purchase_Date Product_Category  \\\n",
       "0    758634          Amit  rahul@domain.com    2025-03-07      Electronics   \n",
       "1    617313         Suman     suman@invalid    2025-02-28           Beauty   \n",
       "2    493325         Ankit  rahul@domain.com    2025-03-07            Books   \n",
       "3    941066         Ankit      neha@example    2025-03-10      Electronics   \n",
       "4    396423         Priya     amit@site.com    2025-02-28            Books   \n",
       "\n",
       "   Product_Name  Amount_Spent  Discount_Applied Payment_Method  \\\n",
       "0        Laptop         400.0              20.0           Cash   \n",
       "1    Makeup Kit         150.0               0.0     Debit Card   \n",
       "2  Fiction Book         400.0              25.0    Net Banking   \n",
       "3        Laptop         500.0              20.0    Credit Card   \n",
       "4  Fiction Book           0.0              25.0    Net Banking   \n",
       "\n",
       "  Delivery_Status Customer_Location  Review_Rating Return_Status  \\\n",
       "0         Pending           Chennai            3.0  Not Returned   \n",
       "1         Pending             Delhi            3.0      Returned   \n",
       "2        Returned         Bangalore            3.0  Not Returned   \n",
       "3        Returned           Unknown            3.0      Returned   \n",
       "4         Pending             Delhi            5.0      Returned   \n",
       "\n",
       "   Shipping_Cost  Delivery_Time_Days  Customer_Age  \n",
       "0          200.0                 5.0          35.0  \n",
       "1          150.0                10.0          45.0  \n",
       "2          150.0                10.0           3.0  \n",
       "3          200.0                 2.0          28.0  \n",
       "4          100.0                 1.0          35.0  "
      ]
     },
     "execution_count": 23,
     "metadata": {},
     "output_type": "execute_result"
    }
   ],
   "source": [
    "df.head(5)"
   ]
  },
  {
   "cell_type": "markdown",
   "id": "0a4275c8-9ef0-4916-b060-2e642b66102e",
   "metadata": {},
   "source": [
    "### Invalid Ratings"
   ]
  },
  {
   "cell_type": "code",
   "execution_count": 25,
   "id": "5527ccec-f74e-438c-9d61-f01e50fcea54",
   "metadata": {},
   "outputs": [],
   "source": [
    "# Replace ratings less than 1 or greater than 5 with 3.0\n",
    "df.loc[(df['Review_Rating'] < 1.0) | (df['Review_Rating'] > 5.0), 'Review_Rating'] = 3.0\n"
   ]
  },
  {
   "cell_type": "markdown",
   "id": "170c6c5d-94c6-483b-90eb-7fa60049110d",
   "metadata": {},
   "source": [
    "# Analysis"
   ]
  },
  {
   "cell_type": "markdown",
   "id": "5104fa92-20bd-42d5-b1f3-dcc798dfa497",
   "metadata": {},
   "source": [
    "### Which product category has the highest sales?"
   ]
  },
  {
   "cell_type": "code",
   "execution_count": 28,
   "id": "8a4d7bd5-3603-45a8-84d0-007bd135a857",
   "metadata": {},
   "outputs": [
    {
     "data": {
      "text/plain": [
       "Product_Category\n",
       "Electronics       283\n",
       "Beauty             98\n",
       "Sports             98\n",
       "Home & Kitchen     94\n",
       "Books              89\n",
       "Fashion            88\n",
       "Name: count, dtype: int64"
      ]
     },
     "execution_count": 28,
     "metadata": {},
     "output_type": "execute_result"
    }
   ],
   "source": [
    "category_counts = df['Product_Category'].value_counts()\n",
    "category_counts"
   ]
  },
  {
   "cell_type": "markdown",
   "id": "f2794a04-939b-4307-adf6-807089a7e4a1",
   "metadata": {},
   "source": [
    "### What is the average spending in each category?"
   ]
  },
  {
   "cell_type": "code",
   "execution_count": 30,
   "id": "aa1e6e08-9972-49b5-8301-c739592969a2",
   "metadata": {},
   "outputs": [
    {
     "data": {
      "text/plain": [
       "Product_Category\n",
       "Fashion           626.704545\n",
       "Electronics       556.625442\n",
       "Beauty            535.969388\n",
       "Sports            525.000000\n",
       "Books             500.561798\n",
       "Home & Kitchen    498.138298\n",
       "Name: Amount_Spent, dtype: float64"
      ]
     },
     "execution_count": 30,
     "metadata": {},
     "output_type": "execute_result"
    }
   ],
   "source": [
    "average_spending = df.groupby('Product_Category')['Amount_Spent'].mean().sort_values(ascending=False)\n",
    "average_spending"
   ]
  },
  {
   "cell_type": "markdown",
   "id": "2ad935ae-f3a9-4c6b-b7a0-3e50ffca0054",
   "metadata": {},
   "source": [
    "### rating distribution"
   ]
  },
  {
   "cell_type": "code",
   "execution_count": 32,
   "id": "a054aa67-18f2-44f7-8f27-96a5faf9f8d5",
   "metadata": {},
   "outputs": [
    {
     "data": {
      "text/plain": [
       "Review_Rating\n",
       "3.0    361\n",
       "5.0    104\n",
       "4.0    100\n",
       "2.0     96\n",
       "1.0     89\n",
       "Name: count, dtype: int64"
      ]
     },
     "execution_count": 32,
     "metadata": {},
     "output_type": "execute_result"
    }
   ],
   "source": [
    "rating_distribution=df['Review_Rating'].value_counts()\n",
    "rating_distribution"
   ]
  },
  {
   "cell_type": "markdown",
   "id": "6446b515-c2b2-47b7-998b-1a29d31689f7",
   "metadata": {},
   "source": [
    "# Visualisation"
   ]
  },
  {
   "cell_type": "code",
   "execution_count": 34,
   "id": "4846aa1c-f457-4823-89ea-1deebc8bc9dd",
   "metadata": {},
   "outputs": [
    {
     "name": "stderr",
     "output_type": "stream",
     "text": [
      "C:\\Users\\user\\AppData\\Local\\Temp\\ipykernel_16832\\1129792070.py:2: FutureWarning: \n",
      "\n",
      "Passing `palette` without assigning `hue` is deprecated and will be removed in v0.14.0. Assign the `x` variable to `hue` and set `legend=False` for the same effect.\n",
      "\n",
      "  sns.barplot(x='Product_Category', y='Amount_Spent', data=df, palette='coolwarm')\n"
     ]
    },
    {
     "data": {
      "image/png": "[encoded data removed]",
      "text/plain": [
       "<Figure size 1000x600 with 1 Axes>"
      ]
     },
     "metadata": {},
     "output_type": "display_data"
    }
   ],
   "source": [
    "plt.figure(figsize=(10, 6))\n",
    "sns.barplot(x='Product_Category', y='Amount_Spent', data=df, palette='coolwarm')\n",
    "plt.title('Amount Spent on Different Product Categories', fontsize=16)\n",
    "plt.show()\n"
   ]
  },
  {
   "cell_type": "code",
   "execution_count": 57,
   "id": "6d49faf4-2e93-4cdd-b1e8-0556a0456647",
   "metadata": {},
   "outputs": [
    {
     "data": {
      "image/png": "[encoded data removed]",
      "text/plain": [
       "<Figure size 800x800 with 1 Axes>"
      ]
     },
     "metadata": {},
     "output_type": "display_data"
    }
   ],
   "source": [
    "payment_counts = df['Payment_Method'].value_counts()\n",
    "\n",
    "plt.figure(figsize=(8, 8))\n",
    "plt.pie(payment_counts, labels=payment_counts.index, autopct='%1.1f%%', colors=sns.color_palette('pastel'))\n",
    "plt.title('Payment Method Distribution', fontsize=16)\n",
    "plt.show()\n"
   ]
  },
  {
   "cell_type": "markdown",
   "id": "5bc5924c-0e29-401b-a3f1-9a0ce6cd54f5",
   "metadata": {},
   "source": [
    "## Average Spending Analysis:"
   ]
  },
  {
   "cell_type": "markdown",
   "id": "3981a24e-74ed-441d-b2aa-f450a0fab653",
   "metadata": {},
   "source": [
    "### Observation:"
   ]
  },
  {
   "cell_type": "markdown",
   "id": "e7288c48-eca1-4977-843e-753f7e1bf1c0",
   "metadata": {},
   "source": [
    "The highest spending is in Fashion (₹626.70) and Electronics (₹556.62).\n",
    "\n",
    "Spending is lower in Books (₹500.56) and Home & Kitchen (₹498.13)."
   ]
  },
  {
   "cell_type": "markdown",
   "id": "7211126b-ff88-4f7d-97e4-cf39f34c3e3b",
   "metadata": {},
   "source": [
    "# Recommendation:"
   ]
  },
  {
   "cell_type": "markdown",
   "id": "4dda03fb-d052-43d7-ad3f-160b0b633840",
   "metadata": {},
   "source": [
    "Boost High-Spending Categories: Run more promotions in Fashion and Electronics, as customers are already spending more in these categories.\n",
    "\n",
    "Increase Sales in Low-Spending Categories: Offer discounts or highlight customer reviews to increase sales in Books and Home & Kitchen.\n",
    "\n",
    "Personalized Offers: Provide exclusive deals or rewards to high-spending customers to encourage repeat purchases.\n",
    "\n"
   ]
  },
  {
   "cell_type": "code",
   "execution_count": null,
   "id": "9957acd1-6b14-4fb8-ab87-b42bb558ef67",
   "metadata": {},
   "outputs": [],
   "source": []
  }
 ],
 "metadata": {
  "kernelspec": {
   "display_name": "Python 3 (ipykernel)",
   "language": "python",
   "name": "python3"
  },
  "language_info": {
   "codemirror_mode": {
    "name": "ipython",
    "version": 3
   },
   "file_extension": ".py",
   "mimetype": "text/x-python",
   "name": "python",
   "nbconvert_exporter": "python",
   "pygments_lexer": "ipython3",
   "version": "3.12.7"
  }
 },
 "nbformat": 4,
 "nbformat_minor": 5
}
